{
 "cells": [
  {
   "cell_type": "code",
   "execution_count": 25,
   "metadata": {},
   "outputs": [],
   "source": [
    "import pandas as pd\n",
    "import re"
   ]
  },
  {
   "cell_type": "code",
   "execution_count": 26,
   "metadata": {},
   "outputs": [],
   "source": [
    "def parse_medical_abstact_data(filepath: str):\n",
    "\n",
    "    text_list = []\n",
    "    label_list = []\n",
    "    abstract_list = []\n",
    "    abstract_num = ''\n",
    "\n",
    "    try:\n",
    "        with open(filepath, 'r') as file:\n",
    "            for line in file:\n",
    "                \n",
    "                # Strip any extra spaces from front and end of the line\n",
    "                stripped_line = line.strip()\n",
    "                                \n",
    "                # Only consider the line which is not empty\n",
    "                if len(stripped_line) != 0:\n",
    "                    # Search for abstract number and update the abstract variable if the match is found\n",
    "                    result = re.search('^\\#+\\d+$', stripped_line)\n",
    "                    if result != None:\n",
    "                        abstract_num = result.group()\n",
    "                    \n",
    "                    # Search for the label and text using named groups and extract the groups if the match is found\n",
    "                    result = re.search('(?P<label>^[A-Z]+)(?:[\\s\\t]+)(?P<text>.+$)', stripped_line)\n",
    "                    if result != None:\n",
    "                        label = result['label']\n",
    "                        text = result['text']\n",
    "                        \n",
    "                        # Find the total number of tokens in the text line\n",
    "                        split_text = text.split()\n",
    "\n",
    "                        # Append the values of abstract name, label and text to the lists only if the label has one of the following abstract segments ['BACKGROUND', 'CONCLUSIONS', 'METHODS', 'OBJECTIVE', 'RESULTS']\n",
    "                        # Only considder text line where total tokens is more than or equal to 5 (one token will be considered for the dot; so a total of four words must be in the line)\n",
    "                        if (label in ['BACKGROUND', 'CONCLUSIONS', 'METHODS', 'OBJECTIVE', 'RESULTS']) and (len(split_text) >= 5):\n",
    "                            abstract_list.append(abstract_num)\n",
    "                            text_list.append(text)\n",
    "                            label_list.append(label)\n",
    "\n",
    "        # Now creating a dataframe from all the lists\n",
    "        data_df = pd.DataFrame({'Abstract Name': abstract_list, 'Text': text_list, 'Label': label_list})\n",
    "\n",
    "        return data_df\n",
    "    \n",
    "    except Exception as e:\n",
    "        print(e)\n",
    "        \n",
    "        return None\n",
    "        "
   ]
  },
  {
   "cell_type": "code",
   "execution_count": 27,
   "metadata": {},
   "outputs": [
    {
     "data": {
      "text/html": [
       "<div>\n",
       "<style scoped>\n",
       "    .dataframe tbody tr th:only-of-type {\n",
       "        vertical-align: middle;\n",
       "    }\n",
       "\n",
       "    .dataframe tbody tr th {\n",
       "        vertical-align: top;\n",
       "    }\n",
       "\n",
       "    .dataframe thead th {\n",
       "        text-align: right;\n",
       "    }\n",
       "</style>\n",
       "<table border=\"1\" class=\"dataframe\">\n",
       "  <thead>\n",
       "    <tr style=\"text-align: right;\">\n",
       "      <th></th>\n",
       "      <th>Abstract Name</th>\n",
       "      <th>Text</th>\n",
       "      <th>Label</th>\n",
       "    </tr>\n",
       "  </thead>\n",
       "  <tbody>\n",
       "    <tr>\n",
       "      <th>0</th>\n",
       "      <td>###24491034</td>\n",
       "      <td>The emergence of HIV as a chronic condition me...</td>\n",
       "      <td>BACKGROUND</td>\n",
       "    </tr>\n",
       "    <tr>\n",
       "      <th>1</th>\n",
       "      <td>###24491034</td>\n",
       "      <td>This paper describes the design and evaluation...</td>\n",
       "      <td>BACKGROUND</td>\n",
       "    </tr>\n",
       "    <tr>\n",
       "      <th>2</th>\n",
       "      <td>###24491034</td>\n",
       "      <td>This study is designed as a randomised control...</td>\n",
       "      <td>METHODS</td>\n",
       "    </tr>\n",
       "    <tr>\n",
       "      <th>3</th>\n",
       "      <td>###24491034</td>\n",
       "      <td>The intervention group will participate in the...</td>\n",
       "      <td>METHODS</td>\n",
       "    </tr>\n",
       "    <tr>\n",
       "      <th>4</th>\n",
       "      <td>###24491034</td>\n",
       "      <td>The program is based on self-efficacy theory a...</td>\n",
       "      <td>METHODS</td>\n",
       "    </tr>\n",
       "  </tbody>\n",
       "</table>\n",
       "</div>"
      ],
      "text/plain": [
       "  Abstract Name                                               Text       Label\n",
       "0   ###24491034  The emergence of HIV as a chronic condition me...  BACKGROUND\n",
       "1   ###24491034  This paper describes the design and evaluation...  BACKGROUND\n",
       "2   ###24491034  This study is designed as a randomised control...     METHODS\n",
       "3   ###24491034  The intervention group will participate in the...     METHODS\n",
       "4   ###24491034  The program is based on self-efficacy theory a...     METHODS"
      ]
     },
     "execution_count": 27,
     "metadata": {},
     "output_type": "execute_result"
    }
   ],
   "source": [
    "train_df = parse_medical_abstact_data(filepath='Dataset/train.txt')\n",
    "train_df.head()"
   ]
  },
  {
   "cell_type": "code",
   "execution_count": 29,
   "metadata": {},
   "outputs": [],
   "source": [
    "# Saving the dataframes as csv files\n",
    "train_df.to_csv(path_or_buf='Dataset/train.csv', index=False)"
   ]
  },
  {
   "cell_type": "code",
   "execution_count": 30,
   "metadata": {},
   "outputs": [
    {
     "data": {
      "text/html": [
       "<div>\n",
       "<style scoped>\n",
       "    .dataframe tbody tr th:only-of-type {\n",
       "        vertical-align: middle;\n",
       "    }\n",
       "\n",
       "    .dataframe tbody tr th {\n",
       "        vertical-align: top;\n",
       "    }\n",
       "\n",
       "    .dataframe thead th {\n",
       "        text-align: right;\n",
       "    }\n",
       "</style>\n",
       "<table border=\"1\" class=\"dataframe\">\n",
       "  <thead>\n",
       "    <tr style=\"text-align: right;\">\n",
       "      <th></th>\n",
       "      <th>Abstract Name</th>\n",
       "      <th>Text</th>\n",
       "      <th>Label</th>\n",
       "    </tr>\n",
       "  </thead>\n",
       "  <tbody>\n",
       "    <tr>\n",
       "      <th>0</th>\n",
       "      <td>###24562799</td>\n",
       "      <td>Many pathogenic processes and diseases are the...</td>\n",
       "      <td>BACKGROUND</td>\n",
       "    </tr>\n",
       "    <tr>\n",
       "      <th>1</th>\n",
       "      <td>###24562799</td>\n",
       "      <td>It was recently demonstrated that supraphysiol...</td>\n",
       "      <td>BACKGROUND</td>\n",
       "    </tr>\n",
       "    <tr>\n",
       "      <th>2</th>\n",
       "      <td>###24562799</td>\n",
       "      <td>In the present study , we examined the associa...</td>\n",
       "      <td>BACKGROUND</td>\n",
       "    </tr>\n",
       "    <tr>\n",
       "      <th>3</th>\n",
       "      <td>###24562799</td>\n",
       "      <td>In addition , we compared plasma levels of MAp...</td>\n",
       "      <td>BACKGROUND</td>\n",
       "    </tr>\n",
       "    <tr>\n",
       "      <th>4</th>\n",
       "      <td>###24562799</td>\n",
       "      <td>A total of 192 MI patients and 140 control per...</td>\n",
       "      <td>METHODS</td>\n",
       "    </tr>\n",
       "  </tbody>\n",
       "</table>\n",
       "</div>"
      ],
      "text/plain": [
       "  Abstract Name                                               Text       Label\n",
       "0   ###24562799  Many pathogenic processes and diseases are the...  BACKGROUND\n",
       "1   ###24562799  It was recently demonstrated that supraphysiol...  BACKGROUND\n",
       "2   ###24562799  In the present study , we examined the associa...  BACKGROUND\n",
       "3   ###24562799  In addition , we compared plasma levels of MAp...  BACKGROUND\n",
       "4   ###24562799  A total of 192 MI patients and 140 control per...     METHODS"
      ]
     },
     "execution_count": 30,
     "metadata": {},
     "output_type": "execute_result"
    }
   ],
   "source": [
    "test_df = parse_medical_abstact_data(filepath='Dataset/test.txt')\n",
    "test_df.head()"
   ]
  },
  {
   "cell_type": "code",
   "execution_count": 31,
   "metadata": {},
   "outputs": [],
   "source": [
    "# Saving the dataframes as csv files\n",
    "test_df.to_csv(path_or_buf='Dataset/test.csv', index=False)"
   ]
  },
  {
   "cell_type": "code",
   "execution_count": 32,
   "metadata": {},
   "outputs": [
    {
     "data": {
      "text/html": [
       "<div>\n",
       "<style scoped>\n",
       "    .dataframe tbody tr th:only-of-type {\n",
       "        vertical-align: middle;\n",
       "    }\n",
       "\n",
       "    .dataframe tbody tr th {\n",
       "        vertical-align: top;\n",
       "    }\n",
       "\n",
       "    .dataframe thead th {\n",
       "        text-align: right;\n",
       "    }\n",
       "</style>\n",
       "<table border=\"1\" class=\"dataframe\">\n",
       "  <thead>\n",
       "    <tr style=\"text-align: right;\">\n",
       "      <th></th>\n",
       "      <th>Abstract Name</th>\n",
       "      <th>Text</th>\n",
       "      <th>Label</th>\n",
       "    </tr>\n",
       "  </thead>\n",
       "  <tbody>\n",
       "    <tr>\n",
       "      <th>0</th>\n",
       "      <td>###15337700</td>\n",
       "      <td>Adrenergic activation is thought to be an impo...</td>\n",
       "      <td>BACKGROUND</td>\n",
       "    </tr>\n",
       "    <tr>\n",
       "      <th>1</th>\n",
       "      <td>###15337700</td>\n",
       "      <td>Systemic venous norepinephrine was measured at...</td>\n",
       "      <td>RESULTS</td>\n",
       "    </tr>\n",
       "    <tr>\n",
       "      <th>2</th>\n",
       "      <td>###15337700</td>\n",
       "      <td>Baseline norepinephrine level was associated w...</td>\n",
       "      <td>RESULTS</td>\n",
       "    </tr>\n",
       "    <tr>\n",
       "      <th>3</th>\n",
       "      <td>###15337700</td>\n",
       "      <td>On multivariate analysis , baseline norepineph...</td>\n",
       "      <td>RESULTS</td>\n",
       "    </tr>\n",
       "    <tr>\n",
       "      <th>4</th>\n",
       "      <td>###15337700</td>\n",
       "      <td>In contrast , the relation of the change in no...</td>\n",
       "      <td>RESULTS</td>\n",
       "    </tr>\n",
       "  </tbody>\n",
       "</table>\n",
       "</div>"
      ],
      "text/plain": [
       "  Abstract Name                                               Text       Label\n",
       "0   ###15337700  Adrenergic activation is thought to be an impo...  BACKGROUND\n",
       "1   ###15337700  Systemic venous norepinephrine was measured at...     RESULTS\n",
       "2   ###15337700  Baseline norepinephrine level was associated w...     RESULTS\n",
       "3   ###15337700  On multivariate analysis , baseline norepineph...     RESULTS\n",
       "4   ###15337700  In contrast , the relation of the change in no...     RESULTS"
      ]
     },
     "execution_count": 32,
     "metadata": {},
     "output_type": "execute_result"
    }
   ],
   "source": [
    "dev_df = parse_medical_abstact_data(filepath='Dataset/dev.txt')\n",
    "dev_df.head()"
   ]
  },
  {
   "cell_type": "code",
   "execution_count": 33,
   "metadata": {},
   "outputs": [],
   "source": [
    "# Saving the dataframes as csv files\n",
    "dev_df.to_csv(path_or_buf='Dataset/dev.csv', index=False)"
   ]
  },
  {
   "cell_type": "code",
   "execution_count": null,
   "metadata": {},
   "outputs": [],
   "source": []
  }
 ],
 "metadata": {
  "kernelspec": {
   "display_name": "base",
   "language": "python",
   "name": "python3"
  },
  "language_info": {
   "codemirror_mode": {
    "name": "ipython",
    "version": 3
   },
   "file_extension": ".py",
   "mimetype": "text/x-python",
   "name": "python",
   "nbconvert_exporter": "python",
   "pygments_lexer": "ipython3",
   "version": "3.9.13"
  }
 },
 "nbformat": 4,
 "nbformat_minor": 2
}
